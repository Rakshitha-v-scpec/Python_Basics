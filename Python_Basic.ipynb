{
  "nbformat": 4,
  "nbformat_minor": 0,
  "metadata": {
    "colab": {
      "provenance": []
    },
    "kernelspec": {
      "name": "python3",
      "display_name": "Python 3"
    },
    "language_info": {
      "name": "python"
    }
  },
  "cells": [
    {
      "cell_type": "code",
      "execution_count": null,
      "metadata": {
        "id": "K265mo2XIyIJ"
      },
      "outputs": [],
      "source": []
    },
    {
      "cell_type": "markdown",
      "source": [
        "# Python Basic"
      ],
      "metadata": {
        "id": "wSiB2tK0JBfh"
      }
    },
    {
      "cell_type": "markdown",
      "source": [
        "1. What is Python, and why is it popular\n",
        "    - Python is high level, interpreted, programming language.\n",
        "      It is popular because:\n",
        "\n",
        "       1.It is widely used in the industries.\n",
        "\n",
        "       2.It has lots of built-in libraries\n",
        "\n",
        "       3.It is used for backend, frontend & data analytics\n",
        "       4.It is Versatile for automation, machine learing etc...\n",
        "\n",
        "2. What is an interpreter in Python?\n",
        "\n",
        "    Interpreter in Python is a program that reads and exceutes the code line by line.\n",
        "\n",
        "3. What are pre-defined keywords in Python?\n",
        "\n",
        "    Keywords are reserved words which has a special meaning and does specific purposes in Python.\n",
        "    To know the list of keywords in python\n",
        "\n",
        "    ==> help('Keywords')  \n",
        "    //we get list of Keywords\n",
        "        False      await      else       import     pass\n",
        "        None       break      except     in         raise\n",
        "        True       class      finally    is         return\n",
        "        and        continue   for        lambda     try\n",
        "        as         def        from       nonlocal   while\n",
        "        assert     del        global     not        with\n",
        "        async      elif       if         or         yield\n",
        "\n",
        "4. Can keywords be used as variable names?\n",
        "\n",
        "    No, it is throw Syntax error\n",
        "\n",
        "5. What is mutability in Python?\n",
        "\n",
        "    Mutability in Python where an Object/contain value can be changed after created. It is also called item assignment.\n",
        "    List is prime example of Mutability.\n",
        "\n",
        "6. Why are lists mutable, but tuples are immutable?\n",
        "\n",
        "    List\n",
        "\n",
        "    -Lists are built as dynamic and flexible.\n",
        "\n",
        "    -It is typically used for modification and updation of data, we can edit,   \n",
        "    add, edit, change or remove elements.\n",
        "\n",
        "    Tuples\n",
        "\n",
        "    -Tuples are built for data integrity, it cannot be altered once it is created so the elements are protected from accident changes.\n",
        "\n",
        "7. What is the difference between “==” and “is” operators in Python?\n",
        "   - '==' is comparison operator, it is used to compared two variable\n",
        "     \n",
        "     \n",
        "     ex:  a = 1, b = 1\n",
        "\n",
        "        print(a == b)\n",
        "\n",
        "   - 'is' is identifer operator, it is used to check if variable points to same memory location\n",
        "   \n",
        "   \n",
        "    ex: a = 2\n",
        "        b = a\n",
        "        print(a is b)\n",
        "\n",
        "8.What are logical operators in Python?\n",
        "\n",
        "\n",
        "  Logical operators used to combine both boolean expressions into True/false.\n",
        "    \n",
        "    operators: and, or, not\n",
        "\n",
        "9.What is type casting in Python?\n",
        "\n",
        "Type casting is changing the data type of an oject or variable.\n",
        "    Two types of type casting:\n",
        "    \n",
        "    1. Implicit Type casting\n",
        "    2. Explicit Type casting\n",
        "\n",
        "10.  What is the difference between implicit and explicit type casting?\n",
        "     \n",
        "      Implicit: Python converts value into suitable data types.\n",
        "      \n",
        "      \n",
        "        ex: a = 6 //int\n",
        "            b = 1.2 //float\n",
        "     \n",
        " Explicit: User/Programmers manually converting the data type of the value.\n",
        "      \n",
        "      \n",
        "      ex: a = 4\n",
        "          b = float(a)\n",
        "          type(b) //float\n",
        "\n",
        "11. What is the purpose of conditional statements in Python?\n",
        "\n",
        "    Control statement lets the program/code makes the decision based on conditions. It controls the flow of code.\n",
        "\n",
        "12. How does the elif statement work?\n",
        "\n",
        "    elif (else if) statement works on multiple conditions, it runs the code in order until one condition becomes true.\n",
        "\n",
        "13. What is the difference between for and while loops?\n",
        "\n",
        " while:  \n",
        "          - while loop executes statements until the condition is true.\n",
        "          - You manually change the condition\n",
        "          - safe to used.\n",
        "    for:\n",
        "    \n",
        "        - for loop executed a sequence of iterations/elements\n",
        "        - Automatically moves to next item\n",
        "        - Must be used carefully or it will lead to infinite loop.\n",
        "\n",
        "14. Describe a scenario where a while loop is more suitable than a for loop.\n",
        "\n",
        "    Imagine building a program that asks a user to enter a password. You want to keep asking until they enter the correct one, but you don’t know how many attempts it’ll take.\n",
        "    \n",
        "    This is a perfect use for a while loop because you want the loop to continue until a certain condition is met.\n",
        "\n",
        "\n",
        "      "
      ],
      "metadata": {
        "id": "KJgDVOHlJTk7"
      }
    },
    {
      "cell_type": "code",
      "source": [],
      "metadata": {
        "id": "E0WuB9CeCiBJ"
      },
      "execution_count": null,
      "outputs": []
    },
    {
      "cell_type": "markdown",
      "source": [
        "#Python Practical Questions"
      ],
      "metadata": {
        "id": "iDqOqyO8rQoz"
      }
    },
    {
      "cell_type": "markdown",
      "source": [
        "1. Write a Python program to print \"Hello, World!"
      ],
      "metadata": {
        "id": "B--tl6GDrd50"
      }
    },
    {
      "cell_type": "code",
      "source": [
        "print(\"Hello World!!!\")"
      ],
      "metadata": {
        "colab": {
          "base_uri": "https://localhost:8080/"
        },
        "id": "bcQ4pBhOBMUK",
        "outputId": "d3c4012e-f0f3-47ca-b294-c29d068d8559"
      },
      "execution_count": null,
      "outputs": [
        {
          "output_type": "stream",
          "name": "stdout",
          "text": [
            "Hello World!!!\n"
          ]
        }
      ]
    },
    {
      "cell_type": "markdown",
      "source": [
        " 2, Write a Python program that displays your name and age"
      ],
      "metadata": {
        "id": "Cp2OeWn1sHDl"
      }
    },
    {
      "cell_type": "code",
      "source": [
        "name = 'Rakshitha'\n",
        "age = 24\n",
        "print(name, age)"
      ],
      "metadata": {
        "colab": {
          "base_uri": "https://localhost:8080/"
        },
        "id": "-nmtdGXOsKco",
        "outputId": "b89c5a35-2710-432c-a156-7d03c9c33e6b"
      },
      "execution_count": null,
      "outputs": [
        {
          "output_type": "stream",
          "name": "stdout",
          "text": [
            "Rakshitha 24\n"
          ]
        }
      ]
    },
    {
      "cell_type": "markdown",
      "source": [
        "3. Write code to print all the pre-defined keywords in Python using the keyword library."
      ],
      "metadata": {
        "id": "5DWCqy3LXFyl"
      }
    },
    {
      "cell_type": "code",
      "source": [
        "help('keywords')"
      ],
      "metadata": {
        "colab": {
          "base_uri": "https://localhost:8080/"
        },
        "id": "23owETC3XRPq",
        "outputId": "7925f468-f9e8-4252-c4c7-6b4c8a261fa8"
      },
      "execution_count": null,
      "outputs": [
        {
          "output_type": "stream",
          "name": "stdout",
          "text": [
            "\n",
            "Here is a list of the Python keywords.  Enter any keyword to get more help.\n",
            "\n",
            "False               class               from                or\n",
            "None                continue            global              pass\n",
            "True                def                 if                  raise\n",
            "and                 del                 import              return\n",
            "as                  elif                in                  try\n",
            "assert              else                is                  while\n",
            "async               except              lambda              with\n",
            "await               finally             nonlocal            yield\n",
            "break               for                 not                 \n",
            "\n"
          ]
        }
      ]
    },
    {
      "cell_type": "markdown",
      "source": [
        "4. Write a program that checks if a given word is a Python keyword."
      ],
      "metadata": {
        "id": "YraiUAtFXudS"
      }
    },
    {
      "cell_type": "code",
      "source": [
        "import keyword\n",
        "\n",
        "a = 'not'\n",
        "if keyword.iskeyword(a):\n",
        "  print('Yes it is Python keyword')\n",
        "else:\n",
        "  print('NO')"
      ],
      "metadata": {
        "colab": {
          "base_uri": "https://localhost:8080/"
        },
        "id": "bE7Kybw2Xwh-",
        "outputId": "09a3de73-dafb-4bbb-baeb-8acbbe00ea50"
      },
      "execution_count": 8,
      "outputs": [
        {
          "output_type": "stream",
          "name": "stdout",
          "text": [
            "Yes it is Python keyword\n"
          ]
        }
      ]
    },
    {
      "cell_type": "markdown",
      "source": [
        "5. Create a list and tuple in Python, and demonstrate how attempting to change an element works differently\n",
        "for each"
      ],
      "metadata": {
        "id": "YFZccY_HY6AI"
      }
    },
    {
      "cell_type": "code",
      "source": [
        "A_list = [1, 2, 'a', 'Rakshitha']\n",
        "A_list[1] = 99\n",
        "\n",
        "print(A_list)"
      ],
      "metadata": {
        "colab": {
          "base_uri": "https://localhost:8080/"
        },
        "id": "kCduKqzWZDVt",
        "outputId": "dc0ac226-0502-4038-ad63-e37eb8aafe9d"
      },
      "execution_count": 9,
      "outputs": [
        {
          "output_type": "stream",
          "name": "stdout",
          "text": [
            "[1, 99, 'a', 'Rakshitha']\n"
          ]
        }
      ]
    },
    {
      "cell_type": "markdown",
      "source": [
        "B_tupple = (1, 2, 'a', 'Rakshitha')\n",
        "\n",
        "B_tupple[1] = 99\n",
        "\n",
        "print(B_tupple)\n",
        "Error type:\n",
        "TypeError: 'tuple' object does not support item assignment"
      ],
      "metadata": {
        "id": "sJwZAfDzaJCK"
      }
    },
    {
      "cell_type": "markdown",
      "source": [
        "6.  Write a function to demonstrate the behavior of mutable and immutable arguments."
      ],
      "metadata": {
        "id": "BntBJ5sAaWg2"
      }
    },
    {
      "cell_type": "code",
      "source": [
        "def modify_values(a_number, a_list):\n",
        "    print(\"Inside function (before):\")\n",
        "    print(\"a_number =\", a_number)\n",
        "    print(\"a_list =\", a_list)\n",
        "\n",
        "    # Try to modify both\n",
        "    a_number += 10        # Immutable (int): creates a new value\n",
        "    a_list.append(4)      # Mutable (list): modifies the same list\n",
        "\n",
        "    print(\"Inside function (after):\")\n",
        "    print(\"a_number =\", a_number)\n",
        "    print(\"a_list =\", a_list)\n",
        "\n",
        "# Outside the function\n",
        "num = 5\n",
        "lst = [1, 2, 3]\n",
        "\n",
        "modify_values(num, lst)\n",
        "\n",
        "print(\"\\nOutside function (after call):\")\n",
        "print(\"num =\", num)       # ❌ Not changed\n",
        "print(\"lst =\", lst)       # ✅ Changed!\n"
      ],
      "metadata": {
        "colab": {
          "base_uri": "https://localhost:8080/"
        },
        "id": "O4iqMs2-apiv",
        "outputId": "d59e7b56-1c63-476a-a9c0-a86c2018809c"
      },
      "execution_count": 11,
      "outputs": [
        {
          "output_type": "stream",
          "name": "stdout",
          "text": [
            "Inside function (before):\n",
            "a_number = 5\n",
            "a_list = [1, 2, 3]\n",
            "Inside function (after):\n",
            "a_number = 15\n",
            "a_list = [1, 2, 3, 4]\n",
            "\n",
            "Outside function (after call):\n",
            "num = 5\n",
            "lst = [1, 2, 3, 4]\n"
          ]
        }
      ]
    },
    {
      "cell_type": "markdown",
      "source": [
        "7. Write a program that performs basic arithmetic operations on two user-input numbers."
      ],
      "metadata": {
        "id": "DdmoAe74azwV"
      }
    },
    {
      "cell_type": "code",
      "source": [
        "a = 5\n",
        "b = 3\n",
        "\n",
        "print(a + b, a - b, a * b, a / b, a % b)"
      ],
      "metadata": {
        "colab": {
          "base_uri": "https://localhost:8080/"
        },
        "id": "rviWHa87bEhn",
        "outputId": "c8dc8ee4-08b2-4af2-dd20-b7694370dfc7"
      },
      "execution_count": 13,
      "outputs": [
        {
          "output_type": "stream",
          "name": "stdout",
          "text": [
            "8 2 15 1.6666666666666667 2\n"
          ]
        }
      ]
    },
    {
      "cell_type": "markdown",
      "source": [
        "8. Write a program to demonstrate the use of logical operators."
      ],
      "metadata": {
        "id": "w1G7oxS5clHA"
      }
    },
    {
      "cell_type": "code",
      "source": [
        "a = 5\n",
        "b = 10\n",
        "\n",
        "print('AND operation')\n",
        "print(a > 1 and b > 5)\n",
        "print(a > 5 and b > 9)\n",
        "\n",
        "print('OR operation')\n",
        "print(a > 1 or b > 5)\n",
        "print(a > 5 or b > 9)\n",
        "\n",
        "print('NOT operation')\n",
        "print(not ( a > 1))\n",
        "print(not ( b > 5))"
      ],
      "metadata": {
        "colab": {
          "base_uri": "https://localhost:8080/"
        },
        "id": "IinT3qMkcnC6",
        "outputId": "a0035930-c50d-4ee8-f32f-a85136d0865a"
      },
      "execution_count": 15,
      "outputs": [
        {
          "output_type": "stream",
          "name": "stdout",
          "text": [
            "AND operation\n",
            "True\n",
            "False\n",
            "OR operation\n",
            "True\n",
            "True\n",
            "NOT operation\n",
            "False\n",
            "False\n"
          ]
        }
      ]
    },
    {
      "cell_type": "markdown",
      "source": [
        "9. Write a Python program to convert user input from string to integer, float, and boolean types."
      ],
      "metadata": {
        "id": "KLSitFk8dk1Q"
      }
    },
    {
      "cell_type": "code",
      "source": [
        "a = 6\n",
        "A = int(a)\n",
        "print(A)\n",
        "\n",
        "B = float(a)\n",
        "print(B)\n",
        "\n",
        "C = bool(a)\n",
        "print(C)"
      ],
      "metadata": {
        "colab": {
          "base_uri": "https://localhost:8080/"
        },
        "id": "y0pqW83WeG1Z",
        "outputId": "0ef87d0a-0fd4-4c95-f713-6cd1e57c7fb0"
      },
      "execution_count": 20,
      "outputs": [
        {
          "output_type": "stream",
          "name": "stdout",
          "text": [
            "6\n",
            "6.0\n",
            "True\n"
          ]
        }
      ]
    },
    {
      "cell_type": "markdown",
      "source": [
        "10. Write code to demonstrate type casting with list elements"
      ],
      "metadata": {
        "id": "usOsc871e1Md"
      }
    },
    {
      "cell_type": "code",
      "source": [
        "# Original list\n",
        "A = [1, 2, 3, 4, 5]\n",
        "\n",
        "# Convert integers to strings\n",
        "str_list = [str(item) for item in A]\n",
        "print(\"List as strings:\", str_list)\n",
        "\n",
        "# Convert integers to floats\n",
        "float_list = [float(item) for item in A]\n",
        "print(\"List as floats:\", float_list)\n",
        "\n",
        "# Convert integers to booleans\n",
        "bool_list = [bool(item) for item in A]\n",
        "print(\"List as booleans:\", bool_list)\n"
      ],
      "metadata": {
        "colab": {
          "base_uri": "https://localhost:8080/"
        },
        "id": "sOVg3a4UfCcg",
        "outputId": "5e2c69dd-9915-4e54-e09b-f164c73a5bd6"
      },
      "execution_count": 24,
      "outputs": [
        {
          "output_type": "stream",
          "name": "stdout",
          "text": [
            "List as strings: ['1', '2', '3', '4', '5']\n",
            "List as floats: [1.0, 2.0, 3.0, 4.0, 5.0]\n",
            "List as booleans: [True, True, True, True, True]\n"
          ]
        }
      ]
    },
    {
      "cell_type": "markdown",
      "source": [
        "11. Write a program that checks if a number is positive, negative, or zero.\n",
        "\n"
      ],
      "metadata": {
        "id": "SfVaXUfDoMMi"
      }
    },
    {
      "cell_type": "code",
      "source": [
        "a = 1\n",
        "if(a < 0):\n",
        "  print('Negative')\n",
        "elif(a > 0):\n",
        "  print('Positive')\n",
        "else:\n",
        "  print('Number is Zero')"
      ],
      "metadata": {
        "colab": {
          "base_uri": "https://localhost:8080/"
        },
        "id": "RWGXUNiEoN_Q",
        "outputId": "cfeac77d-02a4-4495-913a-62c89ac8a62f"
      },
      "execution_count": 29,
      "outputs": [
        {
          "output_type": "stream",
          "name": "stdout",
          "text": [
            "Positive\n"
          ]
        }
      ]
    },
    {
      "cell_type": "markdown",
      "source": [
        "12. Write a for loop to print numbers from 1 to 10."
      ],
      "metadata": {
        "id": "uCkYxcAlpMe7"
      }
    },
    {
      "cell_type": "code",
      "source": [
        "for i in range(1, 11):\n",
        "  print(i)"
      ],
      "metadata": {
        "colab": {
          "base_uri": "https://localhost:8080/"
        },
        "id": "vGJpLKkspTt-",
        "outputId": "4366b131-33fd-4470-c1c0-d493b35e4263"
      },
      "execution_count": 32,
      "outputs": [
        {
          "output_type": "stream",
          "name": "stdout",
          "text": [
            "1\n",
            "2\n",
            "3\n",
            "4\n",
            "5\n",
            "6\n",
            "7\n",
            "8\n",
            "9\n",
            "10\n"
          ]
        }
      ]
    },
    {
      "cell_type": "markdown",
      "source": [
        "13. Write a Python program to find the sum of all even numbers between 1 and 50."
      ],
      "metadata": {
        "id": "BAATCWbrpkO3"
      }
    },
    {
      "cell_type": "code",
      "source": [
        "for i in range(1, 50):\n",
        "  while(i % 2 == 0):\n",
        "    print(i)\n",
        "    i = i + 1"
      ],
      "metadata": {
        "colab": {
          "base_uri": "https://localhost:8080/"
        },
        "id": "Kauwzd3SptIM",
        "outputId": "549ea405-85f6-42a5-cc76-4c200ad84941"
      },
      "execution_count": 34,
      "outputs": [
        {
          "output_type": "stream",
          "name": "stdout",
          "text": [
            "2\n",
            "4\n",
            "6\n",
            "8\n",
            "10\n",
            "12\n",
            "14\n",
            "16\n",
            "18\n",
            "20\n",
            "22\n",
            "24\n",
            "26\n",
            "28\n",
            "30\n",
            "32\n",
            "34\n",
            "36\n",
            "38\n",
            "40\n",
            "42\n",
            "44\n",
            "46\n",
            "48\n"
          ]
        }
      ]
    },
    {
      "cell_type": "markdown",
      "source": [
        "14. Write a program to reverse a string using a while loop."
      ],
      "metadata": {
        "id": "dtqRsCVLqWwF"
      }
    },
    {
      "cell_type": "code",
      "source": [
        "text = 'Rakshitha'\n",
        "reversed_text = \"\"\n",
        "index = len(text) - 1\n",
        "\n",
        "# Reverse using while loop\n",
        "while index >= 0:\n",
        "    reversed_text += text[index]\n",
        "    index -= 1\n",
        "\n",
        "# Show result\n",
        "print(\"Reversed string:\", reversed_text)"
      ],
      "metadata": {
        "colab": {
          "base_uri": "https://localhost:8080/"
        },
        "id": "NRm1WfaMqZJL",
        "outputId": "cf57ff2d-922f-4c48-f9b1-8c580d066a5b"
      },
      "execution_count": 36,
      "outputs": [
        {
          "output_type": "stream",
          "name": "stdout",
          "text": [
            "Reversed string: ahtihskaR\n"
          ]
        }
      ]
    },
    {
      "cell_type": "markdown",
      "source": [
        "15.  Write a Python program to calculate the factorial of a number provided by the user using a while loop"
      ],
      "metadata": {
        "id": "w6G6HgnXqtq8"
      }
    },
    {
      "cell_type": "code",
      "source": [
        "# Get input from the user\n",
        "num = int(input(\"Enter a non-negative integer: \"))\n",
        "\n",
        "# Initialize result and counter\n",
        "factorial = 1\n",
        "i = 1\n",
        "\n",
        "# Check for valid input\n",
        "if num < 0:\n",
        "    print(\"Factorial is not defined for negative numbers.\")\n",
        "else:\n",
        "    while i <= num:\n",
        "        factorial *= i\n",
        "        i += 1\n",
        "    print(f\"The factorial of {num} is: {factorial}\")\n"
      ],
      "metadata": {
        "colab": {
          "base_uri": "https://localhost:8080/"
        },
        "id": "_WPvetstqwXG",
        "outputId": "219c0795-2fa3-4906-dd9f-aeb3392b873d"
      },
      "execution_count": 39,
      "outputs": [
        {
          "output_type": "stream",
          "name": "stdout",
          "text": [
            "Enter a non-negative integer: 10\n",
            "The factorial of 10 is: 3628800\n"
          ]
        }
      ]
    },
    {
      "cell_type": "code",
      "source": [],
      "metadata": {
        "id": "_ZOznc9Nq6sP"
      },
      "execution_count": null,
      "outputs": []
    }
  ]
}